{
 "cells": [
  {
   "cell_type": "markdown",
   "metadata": {
    "colab_type": "text",
    "id": "gBS0ybHVXbyA"
   },
   "source": [
    "# Recruitment Fraud Detection using Random Forest"
   ]
  },
  {
   "cell_type": "markdown",
   "metadata": {
    "colab_type": "text",
    "id": "yBCedotafa9X"
   },
   "source": [
    "![](https://cdn-images-1.medium.com/max/2000/1*iIx75bixLRbE45mXkH2oCg.png/)"
   ]
  },
  {
   "cell_type": "markdown",
   "metadata": {
    "colab_type": "text",
    "id": "e4syv3jgZYSm"
   },
   "source": [
    "## Import needed dependencies :"
   ]
  },
  {
   "cell_type": "code",
   "execution_count": 1,
   "metadata": {
    "ExecuteTime": {
     "end_time": "2021-06-14T01:29:51.319526Z",
     "start_time": "2021-06-14T01:29:49.193782Z"
    },
    "colab": {
     "base_uri": "https://localhost:8080/",
     "height": 34
    },
    "colab_type": "code",
    "id": "Syg4fgOvQALJ",
    "outputId": "8ef2c57f-8008-4950-da61-c2d909a5ac30"
   },
   "outputs": [],
   "source": [
    "from sklearn.model_selection import train_test_split\n",
    "import pandas as pd\n",
    "import numpy as np\n",
    "from sklearn.ensemble import RandomForestClassifier\n",
    "from sklearn.metrics import f1_score\n",
    "from sklearn.metrics import accuracy_score\n",
    "from keras.callbacks import ModelCheckpoint\n",
    "from sklearn.metrics import accuracy_score\n",
    "import nltk\n",
    "from nltk.corpus import stopwords\n",
    "from nltk.tokenize import word_tokenize"
   ]
  },
  {
   "cell_type": "code",
   "execution_count": 2,
   "metadata": {
    "ExecuteTime": {
     "end_time": "2021-06-14T01:29:51.457334Z",
     "start_time": "2021-06-14T01:29:51.321385Z"
    }
   },
   "outputs": [
    {
     "name": "stderr",
     "output_type": "stream",
     "text": [
      "[nltk_data] Downloading package stopwords to /root/nltk_data...\n",
      "[nltk_data]   Package stopwords is already up-to-date!\n"
     ]
    }
   ],
   "source": [
    "nltk.download('stopwords')\n",
    "stop_words = set(stopwords.words(\"english\"))"
   ]
  },
  {
   "cell_type": "markdown",
   "metadata": {
    "colab_type": "text",
    "id": "OTLE1A0ZbTDd"
   },
   "source": [
    "## Load the preprocessed dataset:"
   ]
  },
  {
   "cell_type": "markdown",
   "metadata": {
    "colab_type": "text",
    "id": "b8CXOZ-ab2Gq"
   },
   "source": [
    "Download the preprocessed dataset [Download](https://drive.google.com/file/d/1rzbDYv3tYLQ7J-P3cgG7mHVwxWzgBwdr/view?usp=sharing)"
   ]
  },
  {
   "cell_type": "code",
   "execution_count": 3,
   "metadata": {
    "ExecuteTime": {
     "end_time": "2021-06-14T01:29:54.850914Z",
     "start_time": "2021-06-14T01:29:54.459178Z"
    },
    "colab": {},
    "colab_type": "code",
    "id": "tCvY3H0KuFQk"
   },
   "outputs": [],
   "source": [
    "data = pd.read_csv(\"job_descriptions_dataset.csv\")"
   ]
  },
  {
   "cell_type": "code",
   "execution_count": 4,
   "metadata": {
    "ExecuteTime": {
     "end_time": "2021-06-14T01:29:55.881371Z",
     "start_time": "2021-06-14T01:29:55.820828Z"
    },
    "scrolled": true
   },
   "outputs": [
    {
     "data": {
      "text/html": [
       "<div>\n",
       "<style scoped>\n",
       "    .dataframe tbody tr th:only-of-type {\n",
       "        vertical-align: middle;\n",
       "    }\n",
       "\n",
       "    .dataframe tbody tr th {\n",
       "        vertical-align: top;\n",
       "    }\n",
       "\n",
       "    .dataframe thead th {\n",
       "        text-align: right;\n",
       "    }\n",
       "</style>\n",
       "<table border=\"1\" class=\"dataframe\">\n",
       "  <thead>\n",
       "    <tr style=\"text-align: right;\">\n",
       "      <th></th>\n",
       "      <th>title</th>\n",
       "      <th>location</th>\n",
       "      <th>department</th>\n",
       "      <th>salary_range</th>\n",
       "      <th>company_profile</th>\n",
       "      <th>description</th>\n",
       "      <th>requirements</th>\n",
       "      <th>benefits</th>\n",
       "      <th>telecommuting</th>\n",
       "      <th>has_company_logo</th>\n",
       "      <th>has_questions</th>\n",
       "      <th>employment_type</th>\n",
       "      <th>required_experience</th>\n",
       "      <th>required_education</th>\n",
       "      <th>industry</th>\n",
       "      <th>function</th>\n",
       "      <th>fraudulent</th>\n",
       "      <th>in_balanced_dataset</th>\n",
       "    </tr>\n",
       "  </thead>\n",
       "  <tbody>\n",
       "    <tr>\n",
       "      <th>98</th>\n",
       "      <td>IC&amp;E Technician</td>\n",
       "      <td>US, , Stocton, CA</td>\n",
       "      <td>Oil &amp; Energy</td>\n",
       "      <td>#URL_MASKED#</td>\n",
       "      <td>...</td>\n",
       "      <td>\\n \\n \\nIC ;E Technician | Bakersfield, CA Mt...</td>\n",
       "      <td>Qualifications \\nKnowledge, Skills  ; Abilitie...</td>\n",
       "      <td>BENEFITS \\nWhat is offered: \\n \\nCompetitive c...</td>\n",
       "      <td>t</td>\n",
       "      <td>t</td>\n",
       "      <td>t</td>\n",
       "      <td>Full-time</td>\n",
       "      <td>Mid-Senior level</td>\n",
       "      <td>High School or equivalent</td>\n",
       "      <td>Oil &amp; Energy</td>\n",
       "      <td>Other</td>\n",
       "      <td>t</td>\n",
       "      <td>f</td>\n",
       "    </tr>\n",
       "    <tr>\n",
       "      <th>144</th>\n",
       "      <td>Forward Cap.</td>\n",
       "      <td></td>\n",
       "      <td></td>\n",
       "      <td></td>\n",
       "      <td></td>\n",
       "      <td>The group has raised a fund for the purchase o...</td>\n",
       "      <td></td>\n",
       "      <td></td>\n",
       "      <td>f</td>\n",
       "      <td>f</td>\n",
       "      <td>f</td>\n",
       "      <td></td>\n",
       "      <td></td>\n",
       "      <td></td>\n",
       "      <td></td>\n",
       "      <td></td>\n",
       "      <td>t</td>\n",
       "      <td>t</td>\n",
       "    </tr>\n",
       "    <tr>\n",
       "      <th>173</th>\n",
       "      <td>Technician Instrument &amp; Controls</td>\n",
       "      <td>US</td>\n",
       "      <td>Power Plant &amp; Energy</td>\n",
       "      <td></td>\n",
       "      <td>\\nNAME_MASKED International and Refined Resou...</td>\n",
       "      <td>Technician Instrument  ; , TXLocation Name: NR...</td>\n",
       "      <td>JOB QUALIFICATIONS-Ability to understand proce...</td>\n",
       "      <td>we are a team of almost 8,000 employees who he...</td>\n",
       "      <td>t</td>\n",
       "      <td>t</td>\n",
       "      <td>t</td>\n",
       "      <td>Full-time</td>\n",
       "      <td>Mid-Senior level</td>\n",
       "      <td>Certification</td>\n",
       "      <td>Electrical/Electronic Manufacturing</td>\n",
       "      <td>Other</td>\n",
       "      <td>t</td>\n",
       "      <td>f</td>\n",
       "    </tr>\n",
       "    <tr>\n",
       "      <th>180</th>\n",
       "      <td>Sales Executive</td>\n",
       "      <td>PK, SD, NAME_MASKED</td>\n",
       "      <td>Sales</td>\n",
       "      <td></td>\n",
       "      <td></td>\n",
       "      <td>Sales Executive</td>\n",
       "      <td>Sales Executive</td>\n",
       "      <td>Sales Executive</td>\n",
       "      <td>f</td>\n",
       "      <td>f</td>\n",
       "      <td>f</td>\n",
       "      <td></td>\n",
       "      <td></td>\n",
       "      <td></td>\n",
       "      <td></td>\n",
       "      <td>Sales</td>\n",
       "      <td>t</td>\n",
       "      <td>t</td>\n",
       "    </tr>\n",
       "    <tr>\n",
       "      <th>215</th>\n",
       "      <td>IC&amp;E Technician Mt NAME_MASKED</td>\n",
       "      <td>US, CA, Bakersfield, CA / Mt. NAME_MASKED</td>\n",
       "      <td>Oil &amp; Energy</td>\n",
       "      <td>#URL_MASKED#</td>\n",
       "      <td>...</td>\n",
       "      <td>\\n \\n \\nIC ;E Technician | Bakersfield, CA Mt...</td>\n",
       "      <td>Qualifications \\nKnowledge, Skills  ; Abiliti...</td>\n",
       "      <td>BENEFITS \\nWhat is offered: \\n \\nCompetitive c...</td>\n",
       "      <td>t</td>\n",
       "      <td>t</td>\n",
       "      <td>t</td>\n",
       "      <td>Full-time</td>\n",
       "      <td>Mid-Senior level</td>\n",
       "      <td>High School or equivalent</td>\n",
       "      <td>Oil &amp; Energy</td>\n",
       "      <td>Other</td>\n",
       "      <td>t</td>\n",
       "      <td>f</td>\n",
       "    </tr>\n",
       "    <tr>\n",
       "      <th>...</th>\n",
       "      <td>...</td>\n",
       "      <td>...</td>\n",
       "      <td>...</td>\n",
       "      <td>...</td>\n",
       "      <td>...</td>\n",
       "      <td>...</td>\n",
       "      <td>...</td>\n",
       "      <td>...</td>\n",
       "      <td>...</td>\n",
       "      <td>...</td>\n",
       "      <td>...</td>\n",
       "      <td>...</td>\n",
       "      <td>...</td>\n",
       "      <td>...</td>\n",
       "      <td>...</td>\n",
       "      <td>...</td>\n",
       "      <td>...</td>\n",
       "      <td>...</td>\n",
       "    </tr>\n",
       "    <tr>\n",
       "      <th>17827</th>\n",
       "      <td>Student Positions Part-Time and Full-Time.</td>\n",
       "      <td>US, CA, NAME_MASKED</td>\n",
       "      <td></td>\n",
       "      <td></td>\n",
       "      <td></td>\n",
       "      <td>Student Positions Part-Time and Full-Time.You ...</td>\n",
       "      <td></td>\n",
       "      <td></td>\n",
       "      <td>f</td>\n",
       "      <td>f</td>\n",
       "      <td>f</td>\n",
       "      <td>Part-time</td>\n",
       "      <td></td>\n",
       "      <td></td>\n",
       "      <td></td>\n",
       "      <td></td>\n",
       "      <td>t</td>\n",
       "      <td>t</td>\n",
       "    </tr>\n",
       "    <tr>\n",
       "      <th>17828</th>\n",
       "      <td>Sales Associate</td>\n",
       "      <td>AU, NSW, NAME_MASKED</td>\n",
       "      <td>Sales and Marketing</td>\n",
       "      <td></td>\n",
       "      <td></td>\n",
       "      <td>LEARN TO EARN AN EXECUTIVE LEVEL INCOME \\nFULL...</td>\n",
       "      <td>What You Can Do. \\n  \\n• Have the potential to...</td>\n",
       "      <td>Who We Are \\n  \\nWe are a Global Leadership De...</td>\n",
       "      <td>f</td>\n",
       "      <td>f</td>\n",
       "      <td>t</td>\n",
       "      <td></td>\n",
       "      <td></td>\n",
       "      <td></td>\n",
       "      <td></td>\n",
       "      <td></td>\n",
       "      <td>t</td>\n",
       "      <td>t</td>\n",
       "    </tr>\n",
       "    <tr>\n",
       "      <th>17829</th>\n",
       "      <td>Android Developer</td>\n",
       "      <td>PL, MZ, NAME_MASKED</td>\n",
       "      <td></td>\n",
       "      <td></td>\n",
       "      <td></td>\n",
       "      <td>inFullMobile Sp. z o.o. is a mobile software d...</td>\n",
       "      <td>• A proven track record in Android / JAVA proj...</td>\n",
       "      <td>\\nattractive salary (adequate to the candidat...</td>\n",
       "      <td>f</td>\n",
       "      <td>f</td>\n",
       "      <td>f</td>\n",
       "      <td></td>\n",
       "      <td></td>\n",
       "      <td></td>\n",
       "      <td></td>\n",
       "      <td></td>\n",
       "      <td>t</td>\n",
       "      <td>t</td>\n",
       "    </tr>\n",
       "    <tr>\n",
       "      <th>17830</th>\n",
       "      <td>Payroll Clerk</td>\n",
       "      <td>US, NY, New York</td>\n",
       "      <td></td>\n",
       "      <td></td>\n",
       "      <td></td>\n",
       "      <td>JOB DESCRIPTIONWe are seeking a full time payr...</td>\n",
       "      <td>JOB REQUIREMENTS•    High school diploma or eq...</td>\n",
       "      <td>We offer a competitive salary and benefits pac...</td>\n",
       "      <td>f</td>\n",
       "      <td>f</td>\n",
       "      <td>f</td>\n",
       "      <td>Full-time</td>\n",
       "      <td></td>\n",
       "      <td></td>\n",
       "      <td>Apparel &amp; Fashion</td>\n",
       "      <td>Accounting/Auditing</td>\n",
       "      <td>t</td>\n",
       "      <td>t</td>\n",
       "    </tr>\n",
       "    <tr>\n",
       "      <th>17831</th>\n",
       "      <td>Furniture mover</td>\n",
       "      <td>US, IL, Chicago</td>\n",
       "      <td></td>\n",
       "      <td></td>\n",
       "      <td>NAME_MASKED NAME_MASKED is a Marketing and Adv...</td>\n",
       "      <td>earn $500 to $1000 a week as a mover.  Must ha...</td>\n",
       "      <td>Good lift \\nflexibile schedule \\ngeat attitude</td>\n",
       "      <td></td>\n",
       "      <td>t</td>\n",
       "      <td>t</td>\n",
       "      <td>f</td>\n",
       "      <td></td>\n",
       "      <td></td>\n",
       "      <td></td>\n",
       "      <td></td>\n",
       "      <td></td>\n",
       "      <td>t</td>\n",
       "      <td>t</td>\n",
       "    </tr>\n",
       "  </tbody>\n",
       "</table>\n",
       "<p>866 rows × 18 columns</p>\n",
       "</div>"
      ],
      "text/plain": [
       "                                            title  \\\n",
       "98                                IC&E Technician   \n",
       "144                                  Forward Cap.   \n",
       "173             Technician Instrument & Controls    \n",
       "180                               Sales Executive   \n",
       "215                IC&E Technician Mt NAME_MASKED   \n",
       "...                                           ...   \n",
       "17827  Student Positions Part-Time and Full-Time.   \n",
       "17828                             Sales Associate   \n",
       "17829                           Android Developer   \n",
       "17830                              Payroll Clerk    \n",
       "17831                             Furniture mover   \n",
       "\n",
       "                                        location            department  \\\n",
       "98                             US, , Stocton, CA          Oil & Energy   \n",
       "144                                                                      \n",
       "173                                           US  Power Plant & Energy   \n",
       "180                          PK, SD, NAME_MASKED                 Sales   \n",
       "215    US, CA, Bakersfield, CA / Mt. NAME_MASKED          Oil & Energy   \n",
       "...                                          ...                   ...   \n",
       "17827                        US, CA, NAME_MASKED                         \n",
       "17828                       AU, NSW, NAME_MASKED   Sales and Marketing   \n",
       "17829                        PL, MZ, NAME_MASKED                         \n",
       "17830                           US, NY, New York                         \n",
       "17831                            US, IL, Chicago                         \n",
       "\n",
       "       salary_range                                    company_profile  \\\n",
       "98     #URL_MASKED#                                                ...   \n",
       "144                                                                      \n",
       "173                   \\nNAME_MASKED International and Refined Resou...   \n",
       "180                                                                      \n",
       "215    #URL_MASKED#                                                ...   \n",
       "...             ...                                                ...   \n",
       "17827                                                                    \n",
       "17828                                                                    \n",
       "17829                                                                    \n",
       "17830                                                                    \n",
       "17831                NAME_MASKED NAME_MASKED is a Marketing and Adv...   \n",
       "\n",
       "                                             description  \\\n",
       "98      \\n \\n \\nIC ;E Technician | Bakersfield, CA Mt...   \n",
       "144    The group has raised a fund for the purchase o...   \n",
       "173    Technician Instrument  ; , TXLocation Name: NR...   \n",
       "180                                      Sales Executive   \n",
       "215     \\n \\n \\nIC ;E Technician | Bakersfield, CA Mt...   \n",
       "...                                                  ...   \n",
       "17827  Student Positions Part-Time and Full-Time.You ...   \n",
       "17828  LEARN TO EARN AN EXECUTIVE LEVEL INCOME \\nFULL...   \n",
       "17829  inFullMobile Sp. z o.o. is a mobile software d...   \n",
       "17830  JOB DESCRIPTIONWe are seeking a full time payr...   \n",
       "17831  earn $500 to $1000 a week as a mover.  Must ha...   \n",
       "\n",
       "                                            requirements  \\\n",
       "98     Qualifications \\nKnowledge, Skills  ; Abilitie...   \n",
       "144                                                        \n",
       "173    JOB QUALIFICATIONS-Ability to understand proce...   \n",
       "180                                      Sales Executive   \n",
       "215     Qualifications \\nKnowledge, Skills  ; Abiliti...   \n",
       "...                                                  ...   \n",
       "17827                                                      \n",
       "17828  What You Can Do. \\n  \\n• Have the potential to...   \n",
       "17829  • A proven track record in Android / JAVA proj...   \n",
       "17830  JOB REQUIREMENTS•    High school diploma or eq...   \n",
       "17831     Good lift \\nflexibile schedule \\ngeat attitude   \n",
       "\n",
       "                                                benefits telecommuting  \\\n",
       "98     BENEFITS \\nWhat is offered: \\n \\nCompetitive c...             t   \n",
       "144                                                                  f   \n",
       "173    we are a team of almost 8,000 employees who he...             t   \n",
       "180                                      Sales Executive             f   \n",
       "215    BENEFITS \\nWhat is offered: \\n \\nCompetitive c...             t   \n",
       "...                                                  ...           ...   \n",
       "17827                                                                f   \n",
       "17828  Who We Are \\n  \\nWe are a Global Leadership De...             f   \n",
       "17829   \\nattractive salary (adequate to the candidat...             f   \n",
       "17830  We offer a competitive salary and benefits pac...             f   \n",
       "17831                                                                t   \n",
       "\n",
       "      has_company_logo has_questions employment_type required_experience  \\\n",
       "98                   t             t       Full-time    Mid-Senior level   \n",
       "144                  f             f                                       \n",
       "173                  t             t       Full-time    Mid-Senior level   \n",
       "180                  f             f                                       \n",
       "215                  t             t       Full-time    Mid-Senior level   \n",
       "...                ...           ...             ...                 ...   \n",
       "17827                f             f       Part-time                       \n",
       "17828                f             t                                       \n",
       "17829                f             f                                       \n",
       "17830                f             f       Full-time                       \n",
       "17831                t             f                                       \n",
       "\n",
       "              required_education                             industry  \\\n",
       "98     High School or equivalent                         Oil & Energy   \n",
       "144                                                                     \n",
       "173                Certification  Electrical/Electronic Manufacturing   \n",
       "180                                                                     \n",
       "215    High School or equivalent                         Oil & Energy   \n",
       "...                          ...                                  ...   \n",
       "17827                                                                   \n",
       "17828                                                                   \n",
       "17829                                                                   \n",
       "17830                                               Apparel & Fashion   \n",
       "17831                                                                   \n",
       "\n",
       "                  function fraudulent in_balanced_dataset  \n",
       "98                   Other          t                   f  \n",
       "144                                 t                   t  \n",
       "173                  Other          t                   f  \n",
       "180                  Sales          t                   t  \n",
       "215                  Other          t                   f  \n",
       "...                    ...        ...                 ...  \n",
       "17827                               t                   t  \n",
       "17828                               t                   t  \n",
       "17829                               t                   t  \n",
       "17830  Accounting/Auditing          t                   t  \n",
       "17831                               t                   t  \n",
       "\n",
       "[866 rows x 18 columns]"
      ]
     },
     "execution_count": 4,
     "metadata": {},
     "output_type": "execute_result"
    }
   ],
   "source": [
    "new_data = data.replace(np.nan, \"\", regex=True)\n",
    "new_data.loc[new_data['fraudulent'] == 't'] "
   ]
  },
  {
   "cell_type": "code",
   "execution_count": 5,
   "metadata": {
    "ExecuteTime": {
     "end_time": "2021-06-14T01:29:56.615746Z",
     "start_time": "2021-06-14T01:29:56.588296Z"
    },
    "scrolled": true
   },
   "outputs": [
    {
     "data": {
      "text/html": [
       "<div>\n",
       "<style scoped>\n",
       "    .dataframe tbody tr th:only-of-type {\n",
       "        vertical-align: middle;\n",
       "    }\n",
       "\n",
       "    .dataframe tbody tr th {\n",
       "        vertical-align: top;\n",
       "    }\n",
       "\n",
       "    .dataframe thead th {\n",
       "        text-align: right;\n",
       "    }\n",
       "</style>\n",
       "<table border=\"1\" class=\"dataframe\">\n",
       "  <thead>\n",
       "    <tr style=\"text-align: right;\">\n",
       "      <th></th>\n",
       "      <th>title</th>\n",
       "      <th>location</th>\n",
       "      <th>department</th>\n",
       "      <th>salary_range</th>\n",
       "      <th>company_profile</th>\n",
       "      <th>description</th>\n",
       "      <th>requirements</th>\n",
       "      <th>benefits</th>\n",
       "      <th>telecommuting</th>\n",
       "      <th>has_company_logo</th>\n",
       "      <th>has_questions</th>\n",
       "      <th>employment_type</th>\n",
       "      <th>required_experience</th>\n",
       "      <th>required_education</th>\n",
       "      <th>industry</th>\n",
       "      <th>function</th>\n",
       "      <th>fraudulent</th>\n",
       "      <th>in_balanced_dataset</th>\n",
       "    </tr>\n",
       "  </thead>\n",
       "  <tbody>\n",
       "    <tr>\n",
       "      <th>0</th>\n",
       "      <td>Marketing Intern</td>\n",
       "      <td>US, NY, New York</td>\n",
       "      <td>Marketing</td>\n",
       "      <td></td>\n",
       "      <td>We're Food52, and we've created a groundbreaki...</td>\n",
       "      <td>Food52, a fast-growing, -winning online food c...</td>\n",
       "      <td>\\nExperience with content management systems ...</td>\n",
       "      <td></td>\n",
       "      <td>t</td>\n",
       "      <td>t</td>\n",
       "      <td>f</td>\n",
       "      <td>Other</td>\n",
       "      <td>Internship</td>\n",
       "      <td></td>\n",
       "      <td></td>\n",
       "      <td>Marketing</td>\n",
       "      <td>f</td>\n",
       "      <td>f</td>\n",
       "    </tr>\n",
       "    <tr>\n",
       "      <th>1</th>\n",
       "      <td>Customer Service - Cloud Video Production</td>\n",
       "      <td>NZ, , Auckland</td>\n",
       "      <td>Success</td>\n",
       "      <td></td>\n",
       "      <td>90 Seconds, the worlds Cloud Video Production ...</td>\n",
       "      <td>Organised - Focused - NAME_MASKED - Awesome!Do...</td>\n",
       "      <td>What we expect from you: \\nYour key responsibi...</td>\n",
       "      <td>What you will get from us \\nThrough being part...</td>\n",
       "      <td>t</td>\n",
       "      <td>t</td>\n",
       "      <td>f</td>\n",
       "      <td>Full-time</td>\n",
       "      <td>Not Applicable</td>\n",
       "      <td></td>\n",
       "      <td>Marketing and Advertising</td>\n",
       "      <td>Customer Service</td>\n",
       "      <td>f</td>\n",
       "      <td>f</td>\n",
       "    </tr>\n",
       "    <tr>\n",
       "      <th>2</th>\n",
       "      <td>Commissioning Machinery Assistant (CMA)</td>\n",
       "      <td>US, IA, NAME_MASKED</td>\n",
       "      <td></td>\n",
       "      <td></td>\n",
       "      <td>\\nNAME_MASKED Services provides Workforce Sol...</td>\n",
       "      <td>Our client, located in Houston, is actively se...</td>\n",
       "      <td>\\nImplement pre-commissioning and commissioni...</td>\n",
       "      <td></td>\n",
       "      <td>t</td>\n",
       "      <td>t</td>\n",
       "      <td>f</td>\n",
       "      <td></td>\n",
       "      <td></td>\n",
       "      <td></td>\n",
       "      <td></td>\n",
       "      <td></td>\n",
       "      <td>f</td>\n",
       "      <td>f</td>\n",
       "    </tr>\n",
       "    <tr>\n",
       "      <th>3</th>\n",
       "      <td>Account Executive - Washington DC</td>\n",
       "      <td>US, DC, Washington</td>\n",
       "      <td>Sales</td>\n",
       "      <td></td>\n",
       "      <td>Our passion for improving quality of life thro...</td>\n",
       "      <td>THE COMPANY: ESRI – Environmental Systems Rese...</td>\n",
       "      <td>\\n \\nEDUCATION: Bachelor’s or Master’s in GIS...</td>\n",
       "      <td>Our culture is anything but corporate—we have ...</td>\n",
       "      <td>t</td>\n",
       "      <td>t</td>\n",
       "      <td>f</td>\n",
       "      <td>Full-time</td>\n",
       "      <td>Mid-Senior level</td>\n",
       "      <td>Bachelor's Degree</td>\n",
       "      <td>Computer Software</td>\n",
       "      <td>Sales</td>\n",
       "      <td>f</td>\n",
       "      <td>f</td>\n",
       "    </tr>\n",
       "    <tr>\n",
       "      <th>4</th>\n",
       "      <td>Bill Review Manager</td>\n",
       "      <td>US, FL, Fort Worth</td>\n",
       "      <td></td>\n",
       "      <td></td>\n",
       "      <td>SpotSource Solutions LLC is a Global Human Cap...</td>\n",
       "      <td>JOB TITLE: Itemization Review Manager \\nLOCATI...</td>\n",
       "      <td>QUALIFICATIONS: \\n \\nRN license in the State o...</td>\n",
       "      <td>Full Benefits Offered</td>\n",
       "      <td>t</td>\n",
       "      <td>t</td>\n",
       "      <td>t</td>\n",
       "      <td>Full-time</td>\n",
       "      <td>Mid-Senior level</td>\n",
       "      <td>Bachelor's Degree</td>\n",
       "      <td>Hospital &amp; Health Care</td>\n",
       "      <td>Health Care Provider</td>\n",
       "      <td>f</td>\n",
       "      <td>f</td>\n",
       "    </tr>\n",
       "    <tr>\n",
       "      <th>...</th>\n",
       "      <td>...</td>\n",
       "      <td>...</td>\n",
       "      <td>...</td>\n",
       "      <td>...</td>\n",
       "      <td>...</td>\n",
       "      <td>...</td>\n",
       "      <td>...</td>\n",
       "      <td>...</td>\n",
       "      <td>...</td>\n",
       "      <td>...</td>\n",
       "      <td>...</td>\n",
       "      <td>...</td>\n",
       "      <td>...</td>\n",
       "      <td>...</td>\n",
       "      <td>...</td>\n",
       "      <td>...</td>\n",
       "      <td>...</td>\n",
       "      <td>...</td>\n",
       "    </tr>\n",
       "    <tr>\n",
       "      <th>17875</th>\n",
       "      <td>Account Director - Distribution</td>\n",
       "      <td>CA, ON, Toronto</td>\n",
       "      <td>Sales</td>\n",
       "      <td></td>\n",
       "      <td>NAME_MASKED is looking for some awesome new ta...</td>\n",
       "      <td>Just in case this is the first time you’ve vis...</td>\n",
       "      <td>To ace this role you: \\n \\nWill eat comprehens...</td>\n",
       "      <td>What can you expect from us? \\nWe have an open...</td>\n",
       "      <td>t</td>\n",
       "      <td>t</td>\n",
       "      <td>t</td>\n",
       "      <td>Full-time</td>\n",
       "      <td>Mid-Senior level</td>\n",
       "      <td></td>\n",
       "      <td>Computer Software</td>\n",
       "      <td>Sales</td>\n",
       "      <td>f</td>\n",
       "      <td>f</td>\n",
       "    </tr>\n",
       "    <tr>\n",
       "      <th>17876</th>\n",
       "      <td>Payroll Accountant</td>\n",
       "      <td>US, PA, Philadelphia</td>\n",
       "      <td>Accounting</td>\n",
       "      <td></td>\n",
       "      <td>WebLinc is the e-commerce platform and service...</td>\n",
       "      <td>\\nThe Payroll Accountant will focus primarily...</td>\n",
       "      <td>\\n- B.A. or B.S. in Accounting \\n- Desire to ...</td>\n",
       "      <td>\\nHealth  ; Wellness \\n \\nMedical plan \\nPres...</td>\n",
       "      <td>t</td>\n",
       "      <td>t</td>\n",
       "      <td>t</td>\n",
       "      <td>Full-time</td>\n",
       "      <td>Mid-Senior level</td>\n",
       "      <td>Bachelor's Degree</td>\n",
       "      <td>Internet</td>\n",
       "      <td>Accounting/Auditing</td>\n",
       "      <td>f</td>\n",
       "      <td>f</td>\n",
       "    </tr>\n",
       "    <tr>\n",
       "      <th>17877</th>\n",
       "      <td>Project Cost Control Staff Engineer - Cost Con...</td>\n",
       "      <td>US, TX, Houston</td>\n",
       "      <td></td>\n",
       "      <td></td>\n",
       "      <td>We Provide Full Time Permanent Positions for m...</td>\n",
       "      <td>Experienced Project Cost Control Staff Enginee...</td>\n",
       "      <td>\\nAt least 12 years professional experience. ...</td>\n",
       "      <td></td>\n",
       "      <td>f</td>\n",
       "      <td>f</td>\n",
       "      <td>f</td>\n",
       "      <td>Full-time</td>\n",
       "      <td></td>\n",
       "      <td></td>\n",
       "      <td></td>\n",
       "      <td></td>\n",
       "      <td>f</td>\n",
       "      <td>f</td>\n",
       "    </tr>\n",
       "    <tr>\n",
       "      <th>17878</th>\n",
       "      <td>Graphic Designer</td>\n",
       "      <td>NG, LA, NAME_MASKED</td>\n",
       "      <td></td>\n",
       "      <td></td>\n",
       "      <td></td>\n",
       "      <td>NAME_MASKED Studios is looking for an experien...</td>\n",
       "      <td>1. Must be fluent in the latest versions of NA...</td>\n",
       "      <td>Competitive salary (compensation will be based...</td>\n",
       "      <td>f</td>\n",
       "      <td>f</td>\n",
       "      <td>t</td>\n",
       "      <td>Contract</td>\n",
       "      <td>Not Applicable</td>\n",
       "      <td>Professional</td>\n",
       "      <td>Graphic Design</td>\n",
       "      <td>Design</td>\n",
       "      <td>f</td>\n",
       "      <td>f</td>\n",
       "    </tr>\n",
       "    <tr>\n",
       "      <th>17879</th>\n",
       "      <td>Web Application Developers</td>\n",
       "      <td>NZ, N, Wellington</td>\n",
       "      <td>Engineering</td>\n",
       "      <td></td>\n",
       "      <td>NAME_MASKED is looking for some awesome new ta...</td>\n",
       "      <td>Who are we? \\nNAME_MASKED is an award winning ...</td>\n",
       "      <td>We want to hear from you if: \\n \\nYou have an ...</td>\n",
       "      <td></td>\n",
       "      <td>t</td>\n",
       "      <td>t</td>\n",
       "      <td>t</td>\n",
       "      <td>Full-time</td>\n",
       "      <td>Mid-Senior level</td>\n",
       "      <td></td>\n",
       "      <td>Computer Software</td>\n",
       "      <td>Engineering</td>\n",
       "      <td>f</td>\n",
       "      <td>f</td>\n",
       "    </tr>\n",
       "  </tbody>\n",
       "</table>\n",
       "<p>17880 rows × 18 columns</p>\n",
       "</div>"
      ],
      "text/plain": [
       "                                                   title  \\\n",
       "0                                       Marketing Intern   \n",
       "1              Customer Service - Cloud Video Production   \n",
       "2                Commissioning Machinery Assistant (CMA)   \n",
       "3                      Account Executive - Washington DC   \n",
       "4                                    Bill Review Manager   \n",
       "...                                                  ...   \n",
       "17875                   Account Director - Distribution    \n",
       "17876                                 Payroll Accountant   \n",
       "17877  Project Cost Control Staff Engineer - Cost Con...   \n",
       "17878                                   Graphic Designer   \n",
       "17879                         Web Application Developers   \n",
       "\n",
       "                   location   department salary_range  \\\n",
       "0          US, NY, New York    Marketing                \n",
       "1            NZ, , Auckland      Success                \n",
       "2       US, IA, NAME_MASKED                             \n",
       "3        US, DC, Washington        Sales                \n",
       "4        US, FL, Fort Worth                             \n",
       "...                     ...          ...          ...   \n",
       "17875       CA, ON, Toronto        Sales                \n",
       "17876  US, PA, Philadelphia   Accounting                \n",
       "17877       US, TX, Houston                             \n",
       "17878   NG, LA, NAME_MASKED                             \n",
       "17879     NZ, N, Wellington  Engineering                \n",
       "\n",
       "                                         company_profile  \\\n",
       "0      We're Food52, and we've created a groundbreaki...   \n",
       "1      90 Seconds, the worlds Cloud Video Production ...   \n",
       "2       \\nNAME_MASKED Services provides Workforce Sol...   \n",
       "3      Our passion for improving quality of life thro...   \n",
       "4      SpotSource Solutions LLC is a Global Human Cap...   \n",
       "...                                                  ...   \n",
       "17875  NAME_MASKED is looking for some awesome new ta...   \n",
       "17876  WebLinc is the e-commerce platform and service...   \n",
       "17877  We Provide Full Time Permanent Positions for m...   \n",
       "17878                                                      \n",
       "17879  NAME_MASKED is looking for some awesome new ta...   \n",
       "\n",
       "                                             description  \\\n",
       "0      Food52, a fast-growing, -winning online food c...   \n",
       "1      Organised - Focused - NAME_MASKED - Awesome!Do...   \n",
       "2      Our client, located in Houston, is actively se...   \n",
       "3      THE COMPANY: ESRI – Environmental Systems Rese...   \n",
       "4      JOB TITLE: Itemization Review Manager \\nLOCATI...   \n",
       "...                                                  ...   \n",
       "17875  Just in case this is the first time you’ve vis...   \n",
       "17876   \\nThe Payroll Accountant will focus primarily...   \n",
       "17877  Experienced Project Cost Control Staff Enginee...   \n",
       "17878  NAME_MASKED Studios is looking for an experien...   \n",
       "17879  Who are we? \\nNAME_MASKED is an award winning ...   \n",
       "\n",
       "                                            requirements  \\\n",
       "0       \\nExperience with content management systems ...   \n",
       "1      What we expect from you: \\nYour key responsibi...   \n",
       "2       \\nImplement pre-commissioning and commissioni...   \n",
       "3       \\n \\nEDUCATION: Bachelor’s or Master’s in GIS...   \n",
       "4      QUALIFICATIONS: \\n \\nRN license in the State o...   \n",
       "...                                                  ...   \n",
       "17875  To ace this role you: \\n \\nWill eat comprehens...   \n",
       "17876   \\n- B.A. or B.S. in Accounting \\n- Desire to ...   \n",
       "17877   \\nAt least 12 years professional experience. ...   \n",
       "17878  1. Must be fluent in the latest versions of NA...   \n",
       "17879  We want to hear from you if: \\n \\nYou have an ...   \n",
       "\n",
       "                                                benefits telecommuting  \\\n",
       "0                                                                    t   \n",
       "1      What you will get from us \\nThrough being part...             t   \n",
       "2                                                                    t   \n",
       "3      Our culture is anything but corporate—we have ...             t   \n",
       "4                                  Full Benefits Offered             t   \n",
       "...                                                  ...           ...   \n",
       "17875  What can you expect from us? \\nWe have an open...             t   \n",
       "17876   \\nHealth  ; Wellness \\n \\nMedical plan \\nPres...             t   \n",
       "17877                                                                f   \n",
       "17878  Competitive salary (compensation will be based...             f   \n",
       "17879                                                                t   \n",
       "\n",
       "      has_company_logo has_questions employment_type required_experience  \\\n",
       "0                    t             f           Other          Internship   \n",
       "1                    t             f       Full-time      Not Applicable   \n",
       "2                    t             f                                       \n",
       "3                    t             f       Full-time    Mid-Senior level   \n",
       "4                    t             t       Full-time    Mid-Senior level   \n",
       "...                ...           ...             ...                 ...   \n",
       "17875                t             t       Full-time    Mid-Senior level   \n",
       "17876                t             t       Full-time    Mid-Senior level   \n",
       "17877                f             f       Full-time                       \n",
       "17878                f             t        Contract      Not Applicable   \n",
       "17879                t             t       Full-time    Mid-Senior level   \n",
       "\n",
       "      required_education                   industry              function  \\\n",
       "0                                                               Marketing   \n",
       "1                         Marketing and Advertising      Customer Service   \n",
       "2                                                                           \n",
       "3      Bachelor's Degree          Computer Software                 Sales   \n",
       "4      Bachelor's Degree     Hospital & Health Care  Health Care Provider   \n",
       "...                  ...                        ...                   ...   \n",
       "17875                             Computer Software                 Sales   \n",
       "17876  Bachelor's Degree                   Internet   Accounting/Auditing   \n",
       "17877                                                                       \n",
       "17878       Professional             Graphic Design                Design   \n",
       "17879                             Computer Software           Engineering   \n",
       "\n",
       "      fraudulent in_balanced_dataset  \n",
       "0              f                   f  \n",
       "1              f                   f  \n",
       "2              f                   f  \n",
       "3              f                   f  \n",
       "4              f                   f  \n",
       "...          ...                 ...  \n",
       "17875          f                   f  \n",
       "17876          f                   f  \n",
       "17877          f                   f  \n",
       "17878          f                   f  \n",
       "17879          f                   f  \n",
       "\n",
       "[17880 rows x 18 columns]"
      ]
     },
     "execution_count": 5,
     "metadata": {},
     "output_type": "execute_result"
    }
   ],
   "source": [
    "new_data"
   ]
  },
  {
   "cell_type": "code",
   "execution_count": 6,
   "metadata": {
    "ExecuteTime": {
     "end_time": "2021-06-14T01:29:57.014560Z",
     "start_time": "2021-06-14T01:29:57.010281Z"
    },
    "colab": {},
    "colab_type": "code",
    "id": "Wt6-5R5_t_RH"
   },
   "outputs": [],
   "source": [
    "feature_example = ['description', 'benefits', 'requirements', 'company_profile']"
   ]
  },
  {
   "cell_type": "code",
   "execution_count": 7,
   "metadata": {
    "ExecuteTime": {
     "end_time": "2021-06-14T01:29:57.616482Z",
     "start_time": "2021-06-14T01:29:57.610102Z"
    }
   },
   "outputs": [],
   "source": [
    "def clean_sequence(string):\n",
    "    string = string.encode(\"ascii\", \"ignore\").decode()\n",
    "    string_words = word_tokenize(string)\n",
    "    return len([word for word in string_words if word.lower() not in stop_words])\n",
    "\n",
    "#clean_sequence(\"àa string withé fuünny charactersß.\")"
   ]
  },
  {
   "cell_type": "code",
   "execution_count": 8,
   "metadata": {
    "ExecuteTime": {
     "end_time": "2021-06-14T01:29:58.090398Z",
     "start_time": "2021-06-14T01:29:58.083456Z"
    },
    "colab": {
     "base_uri": "https://localhost:8080/",
     "height": 235
    },
    "colab_type": "code",
    "id": "DcXbDTwAuFZq",
    "outputId": "17a9f271-106d-4189-bb19-e9f3c2c50906",
    "scrolled": true
   },
   "outputs": [
    {
     "data": {
      "text/plain": [
       "Index(['title', 'location', 'department', 'salary_range', 'company_profile',\n",
       "       'description', 'requirements', 'benefits', 'telecommuting',\n",
       "       'has_company_logo', 'has_questions', 'employment_type',\n",
       "       'required_experience', 'required_education', 'industry', 'function',\n",
       "       'fraudulent', 'in_balanced_dataset'],\n",
       "      dtype='object')"
      ]
     },
     "execution_count": 8,
     "metadata": {},
     "output_type": "execute_result"
    }
   ],
   "source": [
    "new_data.columns"
   ]
  },
  {
   "cell_type": "code",
   "execution_count": 9,
   "metadata": {
    "ExecuteTime": {
     "end_time": "2021-06-14T01:30:36.599406Z",
     "start_time": "2021-06-14T01:30:36.583487Z"
    },
    "colab": {},
    "colab_type": "code",
    "id": "qkMENiwg7CUl"
   },
   "outputs": [],
   "source": [
    "def dataclean(data):\n",
    "    data = data.replace(np.nan, \"\", regex=True)\n",
    "    data_Fraud = data[data['fraudulent']=='t']\n",
    "    data_NonFraud =  data[data['fraudulent']=='f']    \n",
    "    data['fraudulent'].value_counts()\n",
    "    df_fraud_example = pd.concat([data_Fraud, data_Fraud, data_Fraud, data_Fraud, \n",
    "                                  data_Fraud, data_Fraud, data_Fraud, data_Fraud, \n",
    "                                  data_Fraud, data_Fraud, data_Fraud, data_Fraud, \n",
    "                                 data_Fraud, data_Fraud, data_Fraud, data_Fraud, \n",
    "                                 data_Fraud, data_Fraud, data_Fraud, data_Fraud, ], axis = 0)\n",
    "    data_balanced = pd.concat([data_NonFraud, df_fraud_example], axis = 0)\n",
    "    data_balanced = data_balanced.sample(frac=1).reset_index(drop=True)\n",
    "    data_balanced['fraudulent'] = np.where(data_balanced['fraudulent']=='t', 1, 0)\n",
    "    data_balanced['telecommuting'] = np.where(data_balanced['telecommuting']=='t', 1, 0)\n",
    "    data_balanced['has_company_logo'] = np.where(data_balanced['has_company_logo']=='t', 1, 0)\n",
    "    data_balanced['has_questions'] = np.where(data_balanced['has_questions']=='t', 1, 0)\n",
    "    data_balanced['description'] = data_balanced['description'].apply(lambda x: clean_sequence(str(x)))\n",
    "    data_balanced['benefits'] = data_balanced['benefits'].apply(lambda x: clean_sequence(str(x)))\n",
    "    data_balanced['requirements'] = data_balanced['requirements'].apply(lambda x: clean_sequence(str(x)))\n",
    "    data_balanced['company_profile'] = data_balanced['company_profile'].apply(lambda x: clean_sequence(str(x)))\n",
    "    \n",
    "    y_train = data_balanced.loc[:, ['fraudulent']].values\n",
    "    data_balanced.drop(columns=['industry', 'function', 'department', 'salary_range', 'title', 'employment_type', \n",
    "                                'location', 'required_experience', 'required_education', 'in_balanced_dataset', 'fraudulent'], \n",
    "                                   axis=1, inplace=True)\n",
    "    df_train = data_balanced\n",
    "    return df_train, y_train \n",
    "\n"
   ]
  },
  {
   "cell_type": "code",
   "execution_count": 10,
   "metadata": {
    "ExecuteTime": {
     "end_time": "2021-06-14T01:30:38.072296Z",
     "start_time": "2021-06-14T01:30:38.065727Z"
    },
    "colab": {
     "base_uri": "https://localhost:8080/",
     "height": 34
    },
    "colab_type": "code",
    "id": "yumI2UU1LX8H",
    "outputId": "935fc021-f790-4930-aab0-1543b5bde880"
   },
   "outputs": [
    {
     "data": {
      "text/plain": [
       "'/workspace/sean/FraudDection'"
      ]
     },
     "execution_count": 10,
     "metadata": {},
     "output_type": "execute_result"
    }
   ],
   "source": [
    "import os\n",
    "\n",
    "os.getcwd()"
   ]
  },
  {
   "cell_type": "code",
   "execution_count": 11,
   "metadata": {
    "ExecuteTime": {
     "end_time": "2021-06-14T01:30:39.166712Z",
     "start_time": "2021-06-14T01:30:38.777195Z"
    },
    "colab": {},
    "colab_type": "code",
    "id": "O4ArvskdLMjD",
    "scrolled": true
   },
   "outputs": [],
   "source": [
    "datafile = \"job_descriptions_dataset.csv\"\n",
    "data = pd.read_csv(datafile)\n",
    "sample = data.head(216)"
   ]
  },
  {
   "cell_type": "code",
   "execution_count": 12,
   "metadata": {
    "ExecuteTime": {
     "end_time": "2021-06-14T01:31:52.908423Z",
     "start_time": "2021-06-14T01:30:40.194470Z"
    },
    "colab": {},
    "colab_type": "code",
    "id": "cgMAnqkCvkVZ"
   },
   "outputs": [
    {
     "ename": "KeyError",
     "evalue": "\"None of [Index(['fraudulent'], dtype='object')] are in the [columns]\"",
     "output_type": "error",
     "traceback": [
      "\u001b[0;31m---------------------------------------------------------------------------\u001b[0m",
      "\u001b[0;31mKeyError\u001b[0m                                  Traceback (most recent call last)",
      "\u001b[0;32m<ipython-input-12-348556641ec0>\u001b[0m in \u001b[0;36m<module>\u001b[0;34m\u001b[0m\n\u001b[0;32m----> 1\u001b[0;31m \u001b[0mdf_train\u001b[0m\u001b[0;34m,\u001b[0m \u001b[0my_train\u001b[0m \u001b[0;34m=\u001b[0m \u001b[0mdataclean\u001b[0m\u001b[0;34m(\u001b[0m\u001b[0mdata\u001b[0m\u001b[0;34m)\u001b[0m\u001b[0;34m\u001b[0m\u001b[0;34m\u001b[0m\u001b[0m\n\u001b[0m",
      "\u001b[0;32m<ipython-input-9-b078369c0e87>\u001b[0m in \u001b[0;36mdataclean\u001b[0;34m(data)\u001b[0m\n\u001b[1;32m     23\u001b[0m                                    axis=1, inplace=True)\n\u001b[1;32m     24\u001b[0m     \u001b[0mdf_train\u001b[0m \u001b[0;34m=\u001b[0m \u001b[0mdata_balanced\u001b[0m\u001b[0;34m\u001b[0m\u001b[0;34m\u001b[0m\u001b[0m\n\u001b[0;32m---> 25\u001b[0;31m     \u001b[0my_train\u001b[0m \u001b[0;34m=\u001b[0m \u001b[0mdata_balanced\u001b[0m\u001b[0;34m.\u001b[0m\u001b[0mloc\u001b[0m\u001b[0;34m[\u001b[0m\u001b[0;34m:\u001b[0m\u001b[0;34m,\u001b[0m \u001b[0;34m[\u001b[0m\u001b[0;34m'fraudulent'\u001b[0m\u001b[0;34m]\u001b[0m\u001b[0;34m]\u001b[0m\u001b[0;34m.\u001b[0m\u001b[0mvalues\u001b[0m\u001b[0;34m\u001b[0m\u001b[0;34m\u001b[0m\u001b[0m\n\u001b[0m\u001b[1;32m     26\u001b[0m     \u001b[0;32mreturn\u001b[0m \u001b[0mdf_train\u001b[0m\u001b[0;34m,\u001b[0m \u001b[0my_train\u001b[0m\u001b[0;34m\u001b[0m\u001b[0;34m\u001b[0m\u001b[0m\n\u001b[1;32m     27\u001b[0m \u001b[0;34m\u001b[0m\u001b[0m\n",
      "\u001b[0;32m/opt/conda/lib/python3.8/site-packages/pandas/core/indexing.py\u001b[0m in \u001b[0;36m__getitem__\u001b[0;34m(self, key)\u001b[0m\n\u001b[1;32m    871\u001b[0m                     \u001b[0;31m# AttributeError for IntervalTree get_value\u001b[0m\u001b[0;34m\u001b[0m\u001b[0;34m\u001b[0m\u001b[0;34m\u001b[0m\u001b[0m\n\u001b[1;32m    872\u001b[0m                     \u001b[0;32mpass\u001b[0m\u001b[0;34m\u001b[0m\u001b[0;34m\u001b[0m\u001b[0m\n\u001b[0;32m--> 873\u001b[0;31m             \u001b[0;32mreturn\u001b[0m \u001b[0mself\u001b[0m\u001b[0;34m.\u001b[0m\u001b[0m_getitem_tuple\u001b[0m\u001b[0;34m(\u001b[0m\u001b[0mkey\u001b[0m\u001b[0;34m)\u001b[0m\u001b[0;34m\u001b[0m\u001b[0;34m\u001b[0m\u001b[0m\n\u001b[0m\u001b[1;32m    874\u001b[0m         \u001b[0;32melse\u001b[0m\u001b[0;34m:\u001b[0m\u001b[0;34m\u001b[0m\u001b[0;34m\u001b[0m\u001b[0m\n\u001b[1;32m    875\u001b[0m             \u001b[0;31m# we by definition only have the 0th axis\u001b[0m\u001b[0;34m\u001b[0m\u001b[0;34m\u001b[0m\u001b[0;34m\u001b[0m\u001b[0m\n",
      "\u001b[0;32m/opt/conda/lib/python3.8/site-packages/pandas/core/indexing.py\u001b[0m in \u001b[0;36m_getitem_tuple\u001b[0;34m(self, tup)\u001b[0m\n\u001b[1;32m   1053\u001b[0m             \u001b[0;32mreturn\u001b[0m \u001b[0mself\u001b[0m\u001b[0;34m.\u001b[0m\u001b[0m_multi_take\u001b[0m\u001b[0;34m(\u001b[0m\u001b[0mtup\u001b[0m\u001b[0;34m)\u001b[0m\u001b[0;34m\u001b[0m\u001b[0;34m\u001b[0m\u001b[0m\n\u001b[1;32m   1054\u001b[0m \u001b[0;34m\u001b[0m\u001b[0m\n\u001b[0;32m-> 1055\u001b[0;31m         \u001b[0;32mreturn\u001b[0m \u001b[0mself\u001b[0m\u001b[0;34m.\u001b[0m\u001b[0m_getitem_tuple_same_dim\u001b[0m\u001b[0;34m(\u001b[0m\u001b[0mtup\u001b[0m\u001b[0;34m)\u001b[0m\u001b[0;34m\u001b[0m\u001b[0;34m\u001b[0m\u001b[0m\n\u001b[0m\u001b[1;32m   1056\u001b[0m \u001b[0;34m\u001b[0m\u001b[0m\n\u001b[1;32m   1057\u001b[0m     \u001b[0;32mdef\u001b[0m \u001b[0m_get_label\u001b[0m\u001b[0;34m(\u001b[0m\u001b[0mself\u001b[0m\u001b[0;34m,\u001b[0m \u001b[0mlabel\u001b[0m\u001b[0;34m,\u001b[0m \u001b[0maxis\u001b[0m\u001b[0;34m:\u001b[0m \u001b[0mint\u001b[0m\u001b[0;34m)\u001b[0m\u001b[0;34m:\u001b[0m\u001b[0;34m\u001b[0m\u001b[0;34m\u001b[0m\u001b[0m\n",
      "\u001b[0;32m/opt/conda/lib/python3.8/site-packages/pandas/core/indexing.py\u001b[0m in \u001b[0;36m_getitem_tuple_same_dim\u001b[0;34m(self, tup)\u001b[0m\n\u001b[1;32m    748\u001b[0m                 \u001b[0;32mcontinue\u001b[0m\u001b[0;34m\u001b[0m\u001b[0;34m\u001b[0m\u001b[0m\n\u001b[1;32m    749\u001b[0m \u001b[0;34m\u001b[0m\u001b[0m\n\u001b[0;32m--> 750\u001b[0;31m             \u001b[0mretval\u001b[0m \u001b[0;34m=\u001b[0m \u001b[0mgetattr\u001b[0m\u001b[0;34m(\u001b[0m\u001b[0mretval\u001b[0m\u001b[0;34m,\u001b[0m \u001b[0mself\u001b[0m\u001b[0;34m.\u001b[0m\u001b[0mname\u001b[0m\u001b[0;34m)\u001b[0m\u001b[0;34m.\u001b[0m\u001b[0m_getitem_axis\u001b[0m\u001b[0;34m(\u001b[0m\u001b[0mkey\u001b[0m\u001b[0;34m,\u001b[0m \u001b[0maxis\u001b[0m\u001b[0;34m=\u001b[0m\u001b[0mi\u001b[0m\u001b[0;34m)\u001b[0m\u001b[0;34m\u001b[0m\u001b[0;34m\u001b[0m\u001b[0m\n\u001b[0m\u001b[1;32m    751\u001b[0m             \u001b[0;31m# We should never have retval.ndim < self.ndim, as that should\u001b[0m\u001b[0;34m\u001b[0m\u001b[0;34m\u001b[0m\u001b[0;34m\u001b[0m\u001b[0m\n\u001b[1;32m    752\u001b[0m             \u001b[0;31m#  be handled by the _getitem_lowerdim call above.\u001b[0m\u001b[0;34m\u001b[0m\u001b[0;34m\u001b[0m\u001b[0;34m\u001b[0m\u001b[0m\n",
      "\u001b[0;32m/opt/conda/lib/python3.8/site-packages/pandas/core/indexing.py\u001b[0m in \u001b[0;36m_getitem_axis\u001b[0;34m(self, key, axis)\u001b[0m\n\u001b[1;32m   1097\u001b[0m                     \u001b[0;32mraise\u001b[0m \u001b[0mValueError\u001b[0m\u001b[0;34m(\u001b[0m\u001b[0;34m\"Cannot index with multidimensional key\"\u001b[0m\u001b[0;34m)\u001b[0m\u001b[0;34m\u001b[0m\u001b[0;34m\u001b[0m\u001b[0m\n\u001b[1;32m   1098\u001b[0m \u001b[0;34m\u001b[0m\u001b[0m\n\u001b[0;32m-> 1099\u001b[0;31m                 \u001b[0;32mreturn\u001b[0m \u001b[0mself\u001b[0m\u001b[0;34m.\u001b[0m\u001b[0m_getitem_iterable\u001b[0m\u001b[0;34m(\u001b[0m\u001b[0mkey\u001b[0m\u001b[0;34m,\u001b[0m \u001b[0maxis\u001b[0m\u001b[0;34m=\u001b[0m\u001b[0maxis\u001b[0m\u001b[0;34m)\u001b[0m\u001b[0;34m\u001b[0m\u001b[0;34m\u001b[0m\u001b[0m\n\u001b[0m\u001b[1;32m   1100\u001b[0m \u001b[0;34m\u001b[0m\u001b[0m\n\u001b[1;32m   1101\u001b[0m             \u001b[0;31m# nested tuple slicing\u001b[0m\u001b[0;34m\u001b[0m\u001b[0;34m\u001b[0m\u001b[0;34m\u001b[0m\u001b[0m\n",
      "\u001b[0;32m/opt/conda/lib/python3.8/site-packages/pandas/core/indexing.py\u001b[0m in \u001b[0;36m_getitem_iterable\u001b[0;34m(self, key, axis)\u001b[0m\n\u001b[1;32m   1035\u001b[0m \u001b[0;34m\u001b[0m\u001b[0m\n\u001b[1;32m   1036\u001b[0m         \u001b[0;31m# A collection of keys\u001b[0m\u001b[0;34m\u001b[0m\u001b[0;34m\u001b[0m\u001b[0;34m\u001b[0m\u001b[0m\n\u001b[0;32m-> 1037\u001b[0;31m         \u001b[0mkeyarr\u001b[0m\u001b[0;34m,\u001b[0m \u001b[0mindexer\u001b[0m \u001b[0;34m=\u001b[0m \u001b[0mself\u001b[0m\u001b[0;34m.\u001b[0m\u001b[0m_get_listlike_indexer\u001b[0m\u001b[0;34m(\u001b[0m\u001b[0mkey\u001b[0m\u001b[0;34m,\u001b[0m \u001b[0maxis\u001b[0m\u001b[0;34m,\u001b[0m \u001b[0mraise_missing\u001b[0m\u001b[0;34m=\u001b[0m\u001b[0;32mFalse\u001b[0m\u001b[0;34m)\u001b[0m\u001b[0;34m\u001b[0m\u001b[0;34m\u001b[0m\u001b[0m\n\u001b[0m\u001b[1;32m   1038\u001b[0m         return self.obj._reindex_with_indexers(\n\u001b[1;32m   1039\u001b[0m             \u001b[0;34m{\u001b[0m\u001b[0maxis\u001b[0m\u001b[0;34m:\u001b[0m \u001b[0;34m[\u001b[0m\u001b[0mkeyarr\u001b[0m\u001b[0;34m,\u001b[0m \u001b[0mindexer\u001b[0m\u001b[0;34m]\u001b[0m\u001b[0;34m}\u001b[0m\u001b[0;34m,\u001b[0m \u001b[0mcopy\u001b[0m\u001b[0;34m=\u001b[0m\u001b[0;32mTrue\u001b[0m\u001b[0;34m,\u001b[0m \u001b[0mallow_dups\u001b[0m\u001b[0;34m=\u001b[0m\u001b[0;32mTrue\u001b[0m\u001b[0;34m\u001b[0m\u001b[0;34m\u001b[0m\u001b[0m\n",
      "\u001b[0;32m/opt/conda/lib/python3.8/site-packages/pandas/core/indexing.py\u001b[0m in \u001b[0;36m_get_listlike_indexer\u001b[0;34m(self, key, axis, raise_missing)\u001b[0m\n\u001b[1;32m   1252\u001b[0m             \u001b[0mkeyarr\u001b[0m\u001b[0;34m,\u001b[0m \u001b[0mindexer\u001b[0m\u001b[0;34m,\u001b[0m \u001b[0mnew_indexer\u001b[0m \u001b[0;34m=\u001b[0m \u001b[0max\u001b[0m\u001b[0;34m.\u001b[0m\u001b[0m_reindex_non_unique\u001b[0m\u001b[0;34m(\u001b[0m\u001b[0mkeyarr\u001b[0m\u001b[0;34m)\u001b[0m\u001b[0;34m\u001b[0m\u001b[0;34m\u001b[0m\u001b[0m\n\u001b[1;32m   1253\u001b[0m \u001b[0;34m\u001b[0m\u001b[0m\n\u001b[0;32m-> 1254\u001b[0;31m         \u001b[0mself\u001b[0m\u001b[0;34m.\u001b[0m\u001b[0m_validate_read_indexer\u001b[0m\u001b[0;34m(\u001b[0m\u001b[0mkeyarr\u001b[0m\u001b[0;34m,\u001b[0m \u001b[0mindexer\u001b[0m\u001b[0;34m,\u001b[0m \u001b[0maxis\u001b[0m\u001b[0;34m,\u001b[0m \u001b[0mraise_missing\u001b[0m\u001b[0;34m=\u001b[0m\u001b[0mraise_missing\u001b[0m\u001b[0;34m)\u001b[0m\u001b[0;34m\u001b[0m\u001b[0;34m\u001b[0m\u001b[0m\n\u001b[0m\u001b[1;32m   1255\u001b[0m         \u001b[0;32mreturn\u001b[0m \u001b[0mkeyarr\u001b[0m\u001b[0;34m,\u001b[0m \u001b[0mindexer\u001b[0m\u001b[0;34m\u001b[0m\u001b[0;34m\u001b[0m\u001b[0m\n\u001b[1;32m   1256\u001b[0m \u001b[0;34m\u001b[0m\u001b[0m\n",
      "\u001b[0;32m/opt/conda/lib/python3.8/site-packages/pandas/core/indexing.py\u001b[0m in \u001b[0;36m_validate_read_indexer\u001b[0;34m(self, key, indexer, axis, raise_missing)\u001b[0m\n\u001b[1;32m   1296\u001b[0m             \u001b[0;32mif\u001b[0m \u001b[0mmissing\u001b[0m \u001b[0;34m==\u001b[0m \u001b[0mlen\u001b[0m\u001b[0;34m(\u001b[0m\u001b[0mindexer\u001b[0m\u001b[0;34m)\u001b[0m\u001b[0;34m:\u001b[0m\u001b[0;34m\u001b[0m\u001b[0;34m\u001b[0m\u001b[0m\n\u001b[1;32m   1297\u001b[0m                 \u001b[0maxis_name\u001b[0m \u001b[0;34m=\u001b[0m \u001b[0mself\u001b[0m\u001b[0;34m.\u001b[0m\u001b[0mobj\u001b[0m\u001b[0;34m.\u001b[0m\u001b[0m_get_axis_name\u001b[0m\u001b[0;34m(\u001b[0m\u001b[0maxis\u001b[0m\u001b[0;34m)\u001b[0m\u001b[0;34m\u001b[0m\u001b[0;34m\u001b[0m\u001b[0m\n\u001b[0;32m-> 1298\u001b[0;31m                 \u001b[0;32mraise\u001b[0m \u001b[0mKeyError\u001b[0m\u001b[0;34m(\u001b[0m\u001b[0;34mf\"None of [{key}] are in the [{axis_name}]\"\u001b[0m\u001b[0;34m)\u001b[0m\u001b[0;34m\u001b[0m\u001b[0;34m\u001b[0m\u001b[0m\n\u001b[0m\u001b[1;32m   1299\u001b[0m \u001b[0;34m\u001b[0m\u001b[0m\n\u001b[1;32m   1300\u001b[0m             \u001b[0;31m# We (temporarily) allow for some missing keys with .loc, except in\u001b[0m\u001b[0;34m\u001b[0m\u001b[0;34m\u001b[0m\u001b[0;34m\u001b[0m\u001b[0m\n",
      "\u001b[0;31mKeyError\u001b[0m: \"None of [Index(['fraudulent'], dtype='object')] are in the [columns]\""
     ]
    }
   ],
   "source": [
    "df_train, y_train = dataclean(data)"
   ]
  },
  {
   "cell_type": "code",
   "execution_count": 61,
   "metadata": {
    "ExecuteTime": {
     "end_time": "2021-06-11T13:14:26.406076Z",
     "start_time": "2021-06-11T13:14:26.398691Z"
    },
    "colab": {
     "base_uri": "https://localhost:8080/",
     "height": 261
    },
    "colab_type": "code",
    "id": "6Pf_uuWPXQ3e",
    "outputId": "fd33ff5c-d2f9-4c0b-cb0e-86e850f41bc3",
    "scrolled": true
   },
   "outputs": [
    {
     "data": {
      "text/plain": [
       "(       description  requirements  benefits  telecommuting  has_company_logo  \\\n",
       " 0               51            29        32              0                 0   \n",
       " 1              108             6        16              0                 0   \n",
       " 2               36            40         0              0                 0   \n",
       " 3              112             0         0              0                 0   \n",
       " 4              137           116        46              0                 0   \n",
       " ...            ...           ...       ...            ...               ...   \n",
       " 34329          219            76        22              1                 1   \n",
       " 34330           70            13         8              1                 1   \n",
       " 34331          220            68        22              1                 1   \n",
       " 34332          177             0         0              1                 1   \n",
       " 34333            0             0         0              0                 0   \n",
       " \n",
       "        has_questions  fraudulent  \n",
       " 0                  1           0  \n",
       " 1                  0           1  \n",
       " 2                  0           1  \n",
       " 3                  0           1  \n",
       " 4                  1           0  \n",
       " ...              ...         ...  \n",
       " 34329              1           1  \n",
       " 34330              1           0  \n",
       " 34331              0           1  \n",
       " 34332              0           0  \n",
       " 34333              0           1  \n",
       " \n",
       " [34334 rows x 7 columns],\n",
       " array([[0],\n",
       "        [1],\n",
       "        [1],\n",
       "        ...,\n",
       "        [1],\n",
       "        [0],\n",
       "        [1]]))"
      ]
     },
     "execution_count": 61,
     "metadata": {},
     "output_type": "execute_result"
    }
   ],
   "source": [
    "df_train, y_train"
   ]
  },
  {
   "cell_type": "code",
   "execution_count": 63,
   "metadata": {
    "ExecuteTime": {
     "end_time": "2021-06-11T13:15:08.177018Z",
     "start_time": "2021-06-11T13:15:08.164127Z"
    },
    "colab": {},
    "colab_type": "code",
    "id": "1hkXCEM5XPv7"
   },
   "outputs": [],
   "source": [
    "y = y_train #dataset['Survived']\n",
    "X = df_train #dataset.drop(['Survived'], axis = 1)\n",
    "\n",
    "# Split the dataset to trainand test data\n",
    "train_X, test_X, train_y, test_y = train_test_split(X, y, test_size=0.1, random_state=1995)"
   ]
  },
  {
   "cell_type": "code",
   "execution_count": 65,
   "metadata": {
    "ExecuteTime": {
     "end_time": "2021-06-11T13:15:16.815702Z",
     "start_time": "2021-06-11T13:15:16.804332Z"
    }
   },
   "outputs": [
    {
     "data": {
      "text/html": [
       "<div>\n",
       "<style scoped>\n",
       "    .dataframe tbody tr th:only-of-type {\n",
       "        vertical-align: middle;\n",
       "    }\n",
       "\n",
       "    .dataframe tbody tr th {\n",
       "        vertical-align: top;\n",
       "    }\n",
       "\n",
       "    .dataframe thead th {\n",
       "        text-align: right;\n",
       "    }\n",
       "</style>\n",
       "<table border=\"1\" class=\"dataframe\">\n",
       "  <thead>\n",
       "    <tr style=\"text-align: right;\">\n",
       "      <th></th>\n",
       "      <th>description</th>\n",
       "      <th>requirements</th>\n",
       "      <th>benefits</th>\n",
       "      <th>telecommuting</th>\n",
       "      <th>has_company_logo</th>\n",
       "      <th>has_questions</th>\n",
       "      <th>fraudulent</th>\n",
       "    </tr>\n",
       "  </thead>\n",
       "  <tbody>\n",
       "    <tr>\n",
       "      <th>6825</th>\n",
       "      <td>163</td>\n",
       "      <td>402</td>\n",
       "      <td>0</td>\n",
       "      <td>1</td>\n",
       "      <td>1</td>\n",
       "      <td>1</td>\n",
       "      <td>1</td>\n",
       "    </tr>\n",
       "    <tr>\n",
       "      <th>14681</th>\n",
       "      <td>46</td>\n",
       "      <td>35</td>\n",
       "      <td>27</td>\n",
       "      <td>0</td>\n",
       "      <td>0</td>\n",
       "      <td>0</td>\n",
       "      <td>1</td>\n",
       "    </tr>\n",
       "    <tr>\n",
       "      <th>127</th>\n",
       "      <td>322</td>\n",
       "      <td>0</td>\n",
       "      <td>0</td>\n",
       "      <td>0</td>\n",
       "      <td>0</td>\n",
       "      <td>1</td>\n",
       "      <td>0</td>\n",
       "    </tr>\n",
       "    <tr>\n",
       "      <th>14832</th>\n",
       "      <td>574</td>\n",
       "      <td>125</td>\n",
       "      <td>38</td>\n",
       "      <td>1</td>\n",
       "      <td>1</td>\n",
       "      <td>1</td>\n",
       "      <td>0</td>\n",
       "    </tr>\n",
       "    <tr>\n",
       "      <th>18172</th>\n",
       "      <td>67</td>\n",
       "      <td>157</td>\n",
       "      <td>0</td>\n",
       "      <td>1</td>\n",
       "      <td>1</td>\n",
       "      <td>1</td>\n",
       "      <td>0</td>\n",
       "    </tr>\n",
       "    <tr>\n",
       "      <th>...</th>\n",
       "      <td>...</td>\n",
       "      <td>...</td>\n",
       "      <td>...</td>\n",
       "      <td>...</td>\n",
       "      <td>...</td>\n",
       "      <td>...</td>\n",
       "      <td>...</td>\n",
       "    </tr>\n",
       "    <tr>\n",
       "      <th>9742</th>\n",
       "      <td>216</td>\n",
       "      <td>90</td>\n",
       "      <td>0</td>\n",
       "      <td>0</td>\n",
       "      <td>0</td>\n",
       "      <td>1</td>\n",
       "      <td>1</td>\n",
       "    </tr>\n",
       "    <tr>\n",
       "      <th>2111</th>\n",
       "      <td>180</td>\n",
       "      <td>0</td>\n",
       "      <td>0</td>\n",
       "      <td>1</td>\n",
       "      <td>1</td>\n",
       "      <td>1</td>\n",
       "      <td>0</td>\n",
       "    </tr>\n",
       "    <tr>\n",
       "      <th>4423</th>\n",
       "      <td>65</td>\n",
       "      <td>3</td>\n",
       "      <td>0</td>\n",
       "      <td>0</td>\n",
       "      <td>0</td>\n",
       "      <td>0</td>\n",
       "      <td>1</td>\n",
       "    </tr>\n",
       "    <tr>\n",
       "      <th>5289</th>\n",
       "      <td>76</td>\n",
       "      <td>32</td>\n",
       "      <td>24</td>\n",
       "      <td>0</td>\n",
       "      <td>0</td>\n",
       "      <td>0</td>\n",
       "      <td>1</td>\n",
       "    </tr>\n",
       "    <tr>\n",
       "      <th>441</th>\n",
       "      <td>257</td>\n",
       "      <td>0</td>\n",
       "      <td>0</td>\n",
       "      <td>0</td>\n",
       "      <td>0</td>\n",
       "      <td>0</td>\n",
       "      <td>1</td>\n",
       "    </tr>\n",
       "  </tbody>\n",
       "</table>\n",
       "<p>3434 rows × 7 columns</p>\n",
       "</div>"
      ],
      "text/plain": [
       "       description  requirements  benefits  telecommuting  has_company_logo  \\\n",
       "6825           163           402         0              1                 1   \n",
       "14681           46            35        27              0                 0   \n",
       "127            322             0         0              0                 0   \n",
       "14832          574           125        38              1                 1   \n",
       "18172           67           157         0              1                 1   \n",
       "...            ...           ...       ...            ...               ...   \n",
       "9742           216            90         0              0                 0   \n",
       "2111           180             0         0              1                 1   \n",
       "4423            65             3         0              0                 0   \n",
       "5289            76            32        24              0                 0   \n",
       "441            257             0         0              0                 0   \n",
       "\n",
       "       has_questions  fraudulent  \n",
       "6825               1           1  \n",
       "14681              0           1  \n",
       "127                1           0  \n",
       "14832              1           0  \n",
       "18172              1           0  \n",
       "...              ...         ...  \n",
       "9742               1           1  \n",
       "2111               1           0  \n",
       "4423               0           1  \n",
       "5289               0           1  \n",
       "441                0           1  \n",
       "\n",
       "[3434 rows x 7 columns]"
      ]
     },
     "execution_count": 65,
     "metadata": {},
     "output_type": "execute_result"
    }
   ],
   "source": [
    " test_X"
   ]
  },
  {
   "cell_type": "markdown",
   "metadata": {
    "colab_type": "text",
    "id": "ea71LIIVZmTt"
   },
   "source": [
    "## Set the parameters for the random forest model :"
   ]
  },
  {
   "cell_type": "code",
   "execution_count": 66,
   "metadata": {
    "ExecuteTime": {
     "end_time": "2021-06-11T13:15:19.546653Z",
     "start_time": "2021-06-11T13:15:19.541382Z"
    },
    "colab": {},
    "colab_type": "code",
    "id": "OZWbSS6fJdAa"
   },
   "outputs": [],
   "source": [
    "parameters = {'bootstrap': True,\n",
    "              'min_samples_leaf': 3,\n",
    "              'n_estimators': 20, \n",
    "              'min_samples_split': 10,\n",
    "              'max_features': 'sqrt',\n",
    "              'max_depth': 6,\n",
    "              'max_leaf_nodes': None}"
   ]
  },
  {
   "cell_type": "markdown",
   "metadata": {
    "colab_type": "text",
    "id": "op9F-SETZyfP"
   },
   "source": [
    "## Define the model :"
   ]
  },
  {
   "cell_type": "code",
   "execution_count": 67,
   "metadata": {
    "ExecuteTime": {
     "end_time": "2021-06-11T13:15:20.387317Z",
     "start_time": "2021-06-11T13:15:20.381139Z"
    },
    "colab": {},
    "colab_type": "code",
    "id": "nrlHxayCZxqf"
   },
   "outputs": [],
   "source": [
    "RF_model = RandomForestClassifier(**parameters)"
   ]
  },
  {
   "cell_type": "markdown",
   "metadata": {
    "colab_type": "text",
    "id": "Vz6LYxmnZ60C"
   },
   "source": [
    "## Train the model :"
   ]
  },
  {
   "cell_type": "code",
   "execution_count": 68,
   "metadata": {
    "ExecuteTime": {
     "end_time": "2021-06-11T13:15:21.464105Z",
     "start_time": "2021-06-11T13:15:21.285099Z"
    },
    "colab": {
     "base_uri": "https://localhost:8080/",
     "height": 205
    },
    "colab_type": "code",
    "id": "gWiTrBJmaEn8",
    "outputId": "774b2b86-2957-4124-acc7-dfe731a4292e"
   },
   "outputs": [
    {
     "name": "stderr",
     "output_type": "stream",
     "text": [
      "<ipython-input-68-23032f0b959e>:1: DataConversionWarning: A column-vector y was passed when a 1d array was expected. Please change the shape of y to (n_samples,), for example using ravel().\n",
      "  RF_model.fit(train_X, train_y)\n"
     ]
    },
    {
     "data": {
      "text/plain": [
       "RandomForestClassifier(max_depth=6, max_features='sqrt', min_samples_leaf=3,\n",
       "                       min_samples_split=10, n_estimators=20)"
      ]
     },
     "execution_count": 68,
     "metadata": {},
     "output_type": "execute_result"
    }
   ],
   "source": [
    "RF_model.fit(train_X, train_y)"
   ]
  },
  {
   "cell_type": "markdown",
   "metadata": {
    "colab_type": "text",
    "id": "XC4sNiZJaf0U"
   },
   "source": [
    "## Test the trained model on test data :"
   ]
  },
  {
   "cell_type": "code",
   "execution_count": 69,
   "metadata": {
    "ExecuteTime": {
     "end_time": "2021-06-11T13:15:22.959975Z",
     "start_time": "2021-06-11T13:15:22.942013Z"
    },
    "colab": {},
    "colab_type": "code",
    "id": "TpQcS6O1J-Hm"
   },
   "outputs": [],
   "source": [
    "RF_predictions = RF_model.predict(test_X)"
   ]
  },
  {
   "cell_type": "code",
   "execution_count": 70,
   "metadata": {
    "ExecuteTime": {
     "end_time": "2021-06-11T13:15:24.237344Z",
     "start_time": "2021-06-11T13:15:24.230245Z"
    },
    "colab": {
     "base_uri": "https://localhost:8080/",
     "height": 34
    },
    "colab_type": "code",
    "id": "dd8y9SjiKONS",
    "outputId": "9b140244-0ae0-41e0-991d-6d818f8b3264"
   },
   "outputs": [
    {
     "name": "stdout",
     "output_type": "stream",
     "text": [
      "1.0\n"
     ]
    }
   ],
   "source": [
    "score = accuracy_score(test_y ,RF_predictions)\n",
    "print(score)"
   ]
  },
  {
   "cell_type": "code",
   "execution_count": 71,
   "metadata": {
    "ExecuteTime": {
     "end_time": "2021-06-11T13:15:33.081154Z",
     "start_time": "2021-06-11T13:15:25.246199Z"
    },
    "colab": {
     "base_uri": "https://localhost:8080/",
     "height": 541
    },
    "colab_type": "code",
    "id": "_BctwN8hC_aN",
    "outputId": "633b5660-37da-44c1-a6f2-648144630ab4",
    "scrolled": true
   },
   "outputs": [
    {
     "name": "stderr",
     "output_type": "stream",
     "text": [
      "<ipython-input-71-ba221bdeb54a>:13: DataConversionWarning: A column-vector y was passed when a 1d array was expected. Please change the shape of y to (n_samples,), for example using ravel().\n",
      "  RF_model.fit(train_X, train_y)\n"
     ]
    },
    {
     "name": "stdout",
     "output_type": "stream",
     "text": [
      "1.0\n"
     ]
    },
    {
     "name": "stderr",
     "output_type": "stream",
     "text": [
      "<ipython-input-71-ba221bdeb54a>:13: DataConversionWarning: A column-vector y was passed when a 1d array was expected. Please change the shape of y to (n_samples,), for example using ravel().\n",
      "  RF_model.fit(train_X, train_y)\n"
     ]
    },
    {
     "name": "stdout",
     "output_type": "stream",
     "text": [
      "1.0\n"
     ]
    },
    {
     "name": "stderr",
     "output_type": "stream",
     "text": [
      "<ipython-input-71-ba221bdeb54a>:13: DataConversionWarning: A column-vector y was passed when a 1d array was expected. Please change the shape of y to (n_samples,), for example using ravel().\n",
      "  RF_model.fit(train_X, train_y)\n"
     ]
    },
    {
     "name": "stdout",
     "output_type": "stream",
     "text": [
      "1.0\n"
     ]
    },
    {
     "name": "stderr",
     "output_type": "stream",
     "text": [
      "<ipython-input-71-ba221bdeb54a>:13: DataConversionWarning: A column-vector y was passed when a 1d array was expected. Please change the shape of y to (n_samples,), for example using ravel().\n",
      "  RF_model.fit(train_X, train_y)\n"
     ]
    },
    {
     "name": "stdout",
     "output_type": "stream",
     "text": [
      "1.0\n"
     ]
    },
    {
     "name": "stderr",
     "output_type": "stream",
     "text": [
      "<ipython-input-71-ba221bdeb54a>:13: DataConversionWarning: A column-vector y was passed when a 1d array was expected. Please change the shape of y to (n_samples,), for example using ravel().\n",
      "  RF_model.fit(train_X, train_y)\n"
     ]
    },
    {
     "name": "stdout",
     "output_type": "stream",
     "text": [
      "1.0\n"
     ]
    },
    {
     "name": "stderr",
     "output_type": "stream",
     "text": [
      "<ipython-input-71-ba221bdeb54a>:13: DataConversionWarning: A column-vector y was passed when a 1d array was expected. Please change the shape of y to (n_samples,), for example using ravel().\n",
      "  RF_model.fit(train_X, train_y)\n"
     ]
    },
    {
     "name": "stdout",
     "output_type": "stream",
     "text": [
      "1.0\n"
     ]
    },
    {
     "name": "stderr",
     "output_type": "stream",
     "text": [
      "<ipython-input-71-ba221bdeb54a>:13: DataConversionWarning: A column-vector y was passed when a 1d array was expected. Please change the shape of y to (n_samples,), for example using ravel().\n",
      "  RF_model.fit(train_X, train_y)\n"
     ]
    },
    {
     "name": "stdout",
     "output_type": "stream",
     "text": [
      "1.0\n"
     ]
    },
    {
     "name": "stderr",
     "output_type": "stream",
     "text": [
      "<ipython-input-71-ba221bdeb54a>:13: DataConversionWarning: A column-vector y was passed when a 1d array was expected. Please change the shape of y to (n_samples,), for example using ravel().\n",
      "  RF_model.fit(train_X, train_y)\n"
     ]
    },
    {
     "name": "stdout",
     "output_type": "stream",
     "text": [
      "1.0\n"
     ]
    },
    {
     "name": "stderr",
     "output_type": "stream",
     "text": [
      "<ipython-input-71-ba221bdeb54a>:13: DataConversionWarning: A column-vector y was passed when a 1d array was expected. Please change the shape of y to (n_samples,), for example using ravel().\n",
      "  RF_model.fit(train_X, train_y)\n"
     ]
    },
    {
     "name": "stdout",
     "output_type": "stream",
     "text": [
      "1.0\n"
     ]
    },
    {
     "name": "stderr",
     "output_type": "stream",
     "text": [
      "<ipython-input-71-ba221bdeb54a>:13: DataConversionWarning: A column-vector y was passed when a 1d array was expected. Please change the shape of y to (n_samples,), for example using ravel().\n",
      "  RF_model.fit(train_X, train_y)\n"
     ]
    },
    {
     "name": "stdout",
     "output_type": "stream",
     "text": [
      "1.0\n"
     ]
    }
   ],
   "source": [
    "scores_all = []\n",
    "treeNums =[]\n",
    "for i in range(10):\n",
    "    parameters = {'bootstrap': True,\n",
    "              'min_samples_leaf': 3,\n",
    "              'n_estimators': (i+1)*20, \n",
    "              'min_samples_split': 10,\n",
    "              'max_features': 'sqrt',\n",
    "              'max_depth': 6,\n",
    "              'max_leaf_nodes': None}\n",
    "\n",
    "    RF_model = RandomForestClassifier(**parameters)\n",
    "    RF_model.fit(train_X, train_y)\n",
    "    RF_predictions = RF_model.predict(test_X)\n",
    "    score = accuracy_score(test_y ,RF_predictions)\n",
    "    treeNums.append((i+1)*20)\n",
    "    scores_all.append(score)\n",
    "    print(score)"
   ]
  },
  {
   "cell_type": "code",
   "execution_count": 72,
   "metadata": {
    "ExecuteTime": {
     "end_time": "2021-06-11T13:15:33.179707Z",
     "start_time": "2021-06-11T13:15:33.082839Z"
    },
    "colab": {
     "base_uri": "https://localhost:8080/",
     "height": 298
    },
    "colab_type": "code",
    "id": "pzD-GpLODr3W",
    "outputId": "dd5b59e2-ff83-4f63-89cc-2d046cc02db9"
   },
   "outputs": [
    {
     "data": {
      "text/plain": [
       "[<matplotlib.lines.Line2D at 0x7efbe0173130>]"
      ]
     },
     "execution_count": 72,
     "metadata": {},
     "output_type": "execute_result"
    },
    {
     "data": {
      "image/png": "[encoded data removed]",
      "text/plain": [
       "<Figure size 432x288 with 1 Axes>"
      ]
     },
     "metadata": {
      "needs_background": "light"
     },
     "output_type": "display_data"
    }
   ],
   "source": [
    "import matplotlib.pyplot as plt\n",
    "plt.title(\"accuracy against Trees\")\n",
    "plt.plot(treeNums, scores_all)\n"
   ]
  },
  {
   "cell_type": "markdown",
   "metadata": {
    "colab_type": "text",
    "heading_collapsed": true,
    "id": "Rshkfa_hO90w"
   },
   "source": [
    "## Hyperparameters of Sklearn Random forest classifier[[2]](http://scikit-learn.org/stable/modules/generated/sklearn.ensemble.RandomForestClassifier.html) :\n",
    "\n",
    "*\t**bootstrap** : boolean, optional (default=True)\n",
    "\n",
    "> Whether bootstrap samples are used when building trees.\n",
    "\n",
    "*\t**min_samples_leaf** : int, float, optional (default=1)\n",
    "\n",
    "> The minimum number of samples required to be at a leaf node:\n",
    "\n",
    "> - If int, then consider min_samples_leaf as the minimum number.\n",
    "\n",
    "> - If float, then min_samples_leaf is a percentage and ceil(min_samples_leaf * n_samples) are the minimum number of samples for each node.\n",
    "\n",
    "* **n_estimators** : integer, optional (default=10)\n",
    "> The number of trees in the forest.\n",
    "\n",
    "* \t**min_samples_split** :  int, float, optional (default=2)\n",
    "> The minimum number of samples required to split an internal node:\n",
    "\n",
    "> - If int, then consider min_samples_split as the minimum number.\n",
    "> -\tIf float, then min_samples_split is a percentage and ceil(min_samples_split * n_samples) are the minimum number of samples for each split.\n",
    "\n",
    "*\t**max_features** : int, float, string or None, optional (default=”auto”)\n",
    "> The number of features to consider when looking for the best split:\n",
    "\n",
    "> -\tIf int, then consider max_features features at each split.\n",
    "> -If float, then max_features is a percentage and int(max_features * n_features) features are considered at each split.\n",
    "> -\tIf “auto”, then max_features=sqrt(n_features).\n",
    "> -\tIf “sqrt”, then max_features=sqrt(n_features) (same as “auto”).\n",
    "> -\tIf “log2”, then max_features=log2(n_features).\n",
    "> -\tIf None, then max_features=n_features.\n",
    "\n",
    "\n",
    "*\t**max_depth** :  integer or None, optional (default=None)\n",
    "> The maximum depth of the tree. If None, then nodes are expanded until all leaves are pure or until all leaves contain less than min_samples_split samples.\n",
    "\n",
    "\n",
    "*\t**max_leaf_nodes** : int or None, optional (default=None)\n",
    "> Grow trees with max_leaf_nodes in best-first fashion. Best nodes are defined as relative reduction in impurity. If None then unlimited number of leaf nodes.\n",
    "\n",
    "\n",
    "If you want to learn more about the rest of hyperparameters , check out  [sklearn.ensemble.RandomForestClassifier](http://scikit-learn.org/stable/modules/generated/sklearn.ensemble.RandomForestClassifier.html)"
   ]
  },
  {
   "cell_type": "code",
   "execution_count": 22,
   "metadata": {
    "ExecuteTime": {
     "end_time": "2021-06-11T13:02:20.875256Z",
     "start_time": "2021-06-11T13:02:18.490595Z"
    },
    "colab": {
     "base_uri": "https://localhost:8080/",
     "height": 1000
    },
    "colab_type": "code",
    "hidden": true,
    "id": "YqXMOjt2EvVX",
    "outputId": "8a15264b-3c42-46c0-d574-86cce767af12"
   },
   "outputs": [
    {
     "name": "stderr",
     "output_type": "stream",
     "text": [
      "<ipython-input-22-d7ecfa4713de>:14: DataConversionWarning: A column-vector y was passed when a 1d array was expected. Please change the shape of y to (n_samples,), for example using ravel().\n",
      "  RF_model.fit(train_X, train_y)\n",
      "<ipython-input-22-d7ecfa4713de>:14: DataConversionWarning: A column-vector y was passed when a 1d array was expected. Please change the shape of y to (n_samples,), for example using ravel().\n",
      "  RF_model.fit(train_X, train_y)\n"
     ]
    },
    {
     "name": "stdout",
     "output_type": "stream",
     "text": [
      "1.0\n",
      "1.0\n"
     ]
    },
    {
     "name": "stderr",
     "output_type": "stream",
     "text": [
      "<ipython-input-22-d7ecfa4713de>:14: DataConversionWarning: A column-vector y was passed when a 1d array was expected. Please change the shape of y to (n_samples,), for example using ravel().\n",
      "  RF_model.fit(train_X, train_y)\n",
      "<ipython-input-22-d7ecfa4713de>:14: DataConversionWarning: A column-vector y was passed when a 1d array was expected. Please change the shape of y to (n_samples,), for example using ravel().\n",
      "  RF_model.fit(train_X, train_y)\n"
     ]
    },
    {
     "name": "stdout",
     "output_type": "stream",
     "text": [
      "1.0\n",
      "1.0\n"
     ]
    },
    {
     "name": "stderr",
     "output_type": "stream",
     "text": [
      "<ipython-input-22-d7ecfa4713de>:14: DataConversionWarning: A column-vector y was passed when a 1d array was expected. Please change the shape of y to (n_samples,), for example using ravel().\n",
      "  RF_model.fit(train_X, train_y)\n",
      "<ipython-input-22-d7ecfa4713de>:14: DataConversionWarning: A column-vector y was passed when a 1d array was expected. Please change the shape of y to (n_samples,), for example using ravel().\n",
      "  RF_model.fit(train_X, train_y)\n"
     ]
    },
    {
     "name": "stdout",
     "output_type": "stream",
     "text": [
      "1.0\n",
      "1.0\n"
     ]
    },
    {
     "name": "stderr",
     "output_type": "stream",
     "text": [
      "<ipython-input-22-d7ecfa4713de>:14: DataConversionWarning: A column-vector y was passed when a 1d array was expected. Please change the shape of y to (n_samples,), for example using ravel().\n",
      "  RF_model.fit(train_X, train_y)\n",
      "<ipython-input-22-d7ecfa4713de>:14: DataConversionWarning: A column-vector y was passed when a 1d array was expected. Please change the shape of y to (n_samples,), for example using ravel().\n",
      "  RF_model.fit(train_X, train_y)\n"
     ]
    },
    {
     "name": "stdout",
     "output_type": "stream",
     "text": [
      "1.0\n",
      "1.0\n"
     ]
    },
    {
     "name": "stderr",
     "output_type": "stream",
     "text": [
      "<ipython-input-22-d7ecfa4713de>:14: DataConversionWarning: A column-vector y was passed when a 1d array was expected. Please change the shape of y to (n_samples,), for example using ravel().\n",
      "  RF_model.fit(train_X, train_y)\n",
      "<ipython-input-22-d7ecfa4713de>:14: DataConversionWarning: A column-vector y was passed when a 1d array was expected. Please change the shape of y to (n_samples,), for example using ravel().\n",
      "  RF_model.fit(train_X, train_y)\n"
     ]
    },
    {
     "name": "stdout",
     "output_type": "stream",
     "text": [
      "1.0\n",
      "1.0\n"
     ]
    },
    {
     "name": "stderr",
     "output_type": "stream",
     "text": [
      "<ipython-input-22-d7ecfa4713de>:14: DataConversionWarning: A column-vector y was passed when a 1d array was expected. Please change the shape of y to (n_samples,), for example using ravel().\n",
      "  RF_model.fit(train_X, train_y)\n",
      "<ipython-input-22-d7ecfa4713de>:14: DataConversionWarning: A column-vector y was passed when a 1d array was expected. Please change the shape of y to (n_samples,), for example using ravel().\n",
      "  RF_model.fit(train_X, train_y)\n"
     ]
    },
    {
     "name": "stdout",
     "output_type": "stream",
     "text": [
      "1.0\n",
      "1.0\n"
     ]
    },
    {
     "name": "stderr",
     "output_type": "stream",
     "text": [
      "<ipython-input-22-d7ecfa4713de>:14: DataConversionWarning: A column-vector y was passed when a 1d array was expected. Please change the shape of y to (n_samples,), for example using ravel().\n",
      "  RF_model.fit(train_X, train_y)\n",
      "<ipython-input-22-d7ecfa4713de>:14: DataConversionWarning: A column-vector y was passed when a 1d array was expected. Please change the shape of y to (n_samples,), for example using ravel().\n",
      "  RF_model.fit(train_X, train_y)\n"
     ]
    },
    {
     "name": "stdout",
     "output_type": "stream",
     "text": [
      "1.0\n",
      "1.0\n"
     ]
    },
    {
     "name": "stderr",
     "output_type": "stream",
     "text": [
      "<ipython-input-22-d7ecfa4713de>:14: DataConversionWarning: A column-vector y was passed when a 1d array was expected. Please change the shape of y to (n_samples,), for example using ravel().\n",
      "  RF_model.fit(train_X, train_y)\n",
      "<ipython-input-22-d7ecfa4713de>:14: DataConversionWarning: A column-vector y was passed when a 1d array was expected. Please change the shape of y to (n_samples,), for example using ravel().\n",
      "  RF_model.fit(train_X, train_y)\n"
     ]
    },
    {
     "name": "stdout",
     "output_type": "stream",
     "text": [
      "1.0\n",
      "1.0\n"
     ]
    },
    {
     "name": "stderr",
     "output_type": "stream",
     "text": [
      "<ipython-input-22-d7ecfa4713de>:14: DataConversionWarning: A column-vector y was passed when a 1d array was expected. Please change the shape of y to (n_samples,), for example using ravel().\n",
      "  RF_model.fit(train_X, train_y)\n",
      "<ipython-input-22-d7ecfa4713de>:14: DataConversionWarning: A column-vector y was passed when a 1d array was expected. Please change the shape of y to (n_samples,), for example using ravel().\n",
      "  RF_model.fit(train_X, train_y)\n"
     ]
    },
    {
     "name": "stdout",
     "output_type": "stream",
     "text": [
      "1.0\n",
      "1.0\n"
     ]
    },
    {
     "name": "stderr",
     "output_type": "stream",
     "text": [
      "<ipython-input-22-d7ecfa4713de>:14: DataConversionWarning: A column-vector y was passed when a 1d array was expected. Please change the shape of y to (n_samples,), for example using ravel().\n",
      "  RF_model.fit(train_X, train_y)\n",
      "<ipython-input-22-d7ecfa4713de>:14: DataConversionWarning: A column-vector y was passed when a 1d array was expected. Please change the shape of y to (n_samples,), for example using ravel().\n",
      "  RF_model.fit(train_X, train_y)\n"
     ]
    },
    {
     "name": "stdout",
     "output_type": "stream",
     "text": [
      "1.0\n",
      "1.0\n"
     ]
    },
    {
     "data": {
      "text/plain": [
       "[<matplotlib.lines.Line2D at 0x7efbf32d91c0>]"
      ]
     },
     "execution_count": 22,
     "metadata": {},
     "output_type": "execute_result"
    },
    {
     "data": {
      "image/png": "[encoded data removed]",
      "text/plain": [
       "<Figure size 432x288 with 1 Axes>"
      ]
     },
     "metadata": {
      "needs_background": "light"
     },
     "output_type": "display_data"
    }
   ],
   "source": [
    "scores_all = []\n",
    "max_depth_all =[]\n",
    "scores_train =[]\n",
    "for i in range(20):\n",
    "    parameters = {'bootstrap': True,\n",
    "              'min_samples_leaf': 3,\n",
    "              'n_estimators': 100, \n",
    "              'min_samples_split': 10,\n",
    "              'max_features': 'sqrt',\n",
    "              'max_depth': i + 2,\n",
    "              'max_leaf_nodes': None}\n",
    "\n",
    "    RF_model = RandomForestClassifier(**parameters)\n",
    "    RF_model.fit(train_X, train_y)\n",
    "    RF_predictions_train = RF_model.predict(train_X)\n",
    "    scores_train.append(accuracy_score(train_y ,RF_predictions_train))\n",
    "    RF_predictions = RF_model.predict(test_X)\n",
    "    score = accuracy_score(test_y ,RF_predictions)\n",
    "    max_depth_all.append((i+2))\n",
    "    scores_all.append(score)\n",
    "    print(score)\n",
    "\n",
    "plt.title(\"accuracy against depth of Trees\")\n",
    "plt.plot(max_depth_all, scores_all)"
   ]
  },
  {
   "cell_type": "code",
   "execution_count": 23,
   "metadata": {
    "ExecuteTime": {
     "end_time": "2021-06-11T13:02:20.969840Z",
     "start_time": "2021-06-11T13:02:20.876905Z"
    },
    "colab": {
     "base_uri": "https://localhost:8080/",
     "height": 312
    },
    "colab_type": "code",
    "hidden": true,
    "id": "2lnL8pg1Gpjo",
    "outputId": "6758152d-9bbf-4553-c2e7-88c9019c3791"
   },
   "outputs": [
    {
     "data": {
      "text/plain": [
       "[<matplotlib.lines.Line2D at 0x7efbf32a5d30>]"
      ]
     },
     "execution_count": 23,
     "metadata": {},
     "output_type": "execute_result"
    },
    {
     "data": {
      "image/png": "[encoded data removed]",
      "text/plain": [
       "<Figure size 432x288 with 1 Axes>"
      ]
     },
     "metadata": {
      "needs_background": "light"
     },
     "output_type": "display_data"
    }
   ],
   "source": [
    "plt.title(\"accuracy for both train and test\")\n",
    "plt.xlabel(\"accuracy of test set\")\n",
    "plt.ylabel(\"accuracy of train set\")\n",
    "plt.plot(scores_all,scores_train)\n"
   ]
  },
  {
   "cell_type": "code",
   "execution_count": 0,
   "metadata": {
    "colab": {},
    "colab_type": "code",
    "hidden": true,
    "id": "ipjdtz2Mu2RI"
   },
   "outputs": [],
   "source": []
  }
 ],
 "metadata": {
  "colab": {
   "collapsed_sections": [],
   "name": "Week9_RandomForest_final.ipynb",
   "provenance": [],
   "toc_visible": true
  },
  "kernelspec": {
   "display_name": "Python 3",
   "language": "python",
   "name": "python3"
  },
  "language_info": {
   "codemirror_mode": {
    "name": "ipython",
    "version": 3
   },
   "file_extension": ".py",
   "mimetype": "text/x-python",
   "name": "python",
   "nbconvert_exporter": "python",
   "pygments_lexer": "ipython3",
   "version": "3.8.5"
  },
  "toc": {
   "base_numbering": 1,
   "nav_menu": {},
   "number_sections": false,
   "sideBar": true,
   "skip_h1_title": false,
   "title_cell": "Table of Contents",
   "title_sidebar": "Contents",
   "toc_cell": false,
   "toc_position": {},
   "toc_section_display": true,
   "toc_window_display": false
  }
 },
 "nbformat": 4,
 "nbformat_minor": 1
}
